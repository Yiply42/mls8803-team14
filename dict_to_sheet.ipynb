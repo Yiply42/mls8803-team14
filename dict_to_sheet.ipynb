{
 "cells": [
  {
   "cell_type": "code",
   "execution_count": 13,
   "metadata": {},
   "outputs": [],
   "source": [
    "import json\n",
    "\n",
    "def print_json_values_for_sheets(json_file_path):\n",
    "    \"\"\"\n",
    "    Prints the values of a JSON dictionary in comma-separated format,\n",
    "    which can be copied and pasted into Google Sheets.\n",
    "    \n",
    "    Each value will go into its own cell across a row.\n",
    "    \"\"\"\n",
    "    with open(json_file_path, 'r', encoding='utf-8') as f:\n",
    "        data = json.load(f)\n",
    "\n",
    "    if not isinstance(data, dict):\n",
    "        raise ValueError(\"JSON must be a dictionary.\")\n",
    "\n",
    "    values = list(data.values())\n",
    "    values_str = ','.join(str(v) for v in values)\n",
    "    print(values_str)\n"
   ]
  },
  {
   "cell_type": "code",
   "execution_count": 17,
   "metadata": {},
   "outputs": [],
   "source": [
    "files = [\n",
    "    'media/models/high_pair_t1_big_poison/_DQN_scores_20000.json',\n",
    "    'media/models/high_pair_t2_big_poison/_DQN_scores_20000.json',\n",
    "    'media/models/high_pair_t3_big_poison/_DQN_scores_20000.json',\n",
    "    'media/models/low_pair_t1_big_poison/_DQN_scores_20000.json',\n",
    "    'media/models/low_pair_t2_big_poison/_DQN_scores_20000.json',\n",
    "    'media/models/low_pair_t3_big_poison/_DQN_scores_20000.json',\n",
    "    'media/models/two_pair_t1_big_poison/_DQN_scores_20000.json',\n",
    "    'media/models/two_pair_t2_big_poison/_DQN_scores_20000.json',\n",
    "    'media/models/two_pair_t3_big_poison/_DQN_scores_20000.json',\n",
    "    'media/models/three_of_a_kind_t1_big_poison/_DQN_scores_20000.json',\n",
    "    'media/models/three_of_a_kind_t2_big_poison/_DQN_scores_20000.json',\n",
    "    'media/models/three_of_a_kind_t3_big_poison/_DQN_scores_20000.json',\n",
    "    'media/models/four_of_a_kind_t1_big_poison/_DQN_scores_20000.json',\n",
    "    'media/models/four_of_a_kind_t2_big_poison/_DQN_scores_20000.json',\n",
    "    'media/models/four_of_a_kind_t3_big_poison/_DQN_scores_20000.json'\n",
    "]\n"
   ]
  },
  {
   "cell_type": "code",
   "execution_count": 18,
   "metadata": {},
   "outputs": [
    {
     "name": "stdout",
     "output_type": "stream",
     "text": [
      "0.35860335575028873,0.6322166666666666,0.8358708891595615,0.6204245715494746,-0.052385033618499555,-0.01709151630420701,-0.05442861763112614\n",
      "0.35639199728721593,0.63165,0.8976215098241985,0.60833862050213,-0.05223508729692393,-0.013158659674021281,-0.05565998582963008\n",
      "0.35740464232387686,0.63315,0.947165991902834,0.604976389393389,-0.051684908113530825,-0.010194066315467109,-0.05540747909940882\n",
      "0.35263086703638574,0.6306833333333334,0.6690577743311361,0.6270741402574669,-0.0530099199971547,-0.031816837884094736,-0.05500317183952309\n",
      "0.35235648116843604,0.6340666666666667,0.8321551567881095,0.6140080392048896,-0.05248175380564877,-0.02811649844253151,-0.05494900255917402\n",
      "0.3474365020548407,0.6302666666666666,0.7762359063313097,0.6181122264750487,-0.05344227358033869,-0.05165199835671715,-0.05359134466669942\n",
      "0.34734572891403936,0.6325,0.9614147909967846,0.627304586317233,-0.05287009290937145,-0.01348312134478268,-0.053492234620813726\n",
      "0.3464386697185944,0.6352833333333333,0.9745343975674648,0.6197249385556659,-0.052807537500031955,-0.007013170992139681,-0.05490771317473897\n",
      "0.34246207544636864,0.6331,0.9447448859628498,0.609324268570506,-0.05293053444185187,-0.006079671474363166,-0.05650483835418315\n",
      "0.3573125212080082,0.6338,1.0,0.6337572716816962,-0.05228668501605071,0.0,-0.052292785841065496\n",
      "0.34453781512605053,0.6317833333333334,0.9398797595190381,0.6238996290788507,-0.051772119376568046,-0.009012543879028962,-0.05286626983927629\n",
      "0.35547272111148753,0.6354833333333333,0.9070877708409842,0.6225710145433595,-0.05215249367013648,-0.009624146456180838,-0.05417432947619486\n",
      "0.35492175326874875,0.6320666666666667,1.0,0.6320482690801207,-0.05259557593198572,0.0,-0.05259820584227784\n",
      "0.3528138528138528,0.6300333333333333,1.0,0.6297865243495664,-0.05363293987429438,0.0,-0.05366871902030792\n",
      "0.36967538693329677,0.6348833333333334,0.986013986013986,0.6340444726598393,-0.0525592065452725,-0.012626367045339376,-0.05265460718427027\n"
     ]
    }
   ],
   "source": [
    "for file in files:\n",
    "    print_json_values_for_sheets(file)"
   ]
  },
  {
   "cell_type": "code",
   "execution_count": null,
   "metadata": {},
   "outputs": [],
   "source": []
  }
 ],
 "metadata": {
  "kernelspec": {
   "display_name": "aimn_env",
   "language": "python",
   "name": "python3"
  },
  "language_info": {
   "codemirror_mode": {
    "name": "ipython",
    "version": 3
   },
   "file_extension": ".py",
   "mimetype": "text/x-python",
   "name": "python",
   "nbconvert_exporter": "python",
   "pygments_lexer": "ipython3",
   "version": "3.11.11"
  },
  "orig_nbformat": 4
 },
 "nbformat": 4,
 "nbformat_minor": 2
}
